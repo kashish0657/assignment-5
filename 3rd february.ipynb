{
 "cells": [
  {
   "cell_type": "markdown",
   "id": "9e437650-0f98-4722-ae62-130b7c1f6e93",
   "metadata": {},
   "source": [
    "3rd february"
   ]
  },
  {
   "cell_type": "code",
   "execution_count": null,
   "id": "e5d78b1e-ed3f-4053-ba23-4dcaa8e7438f",
   "metadata": {},
   "outputs": [],
   "source": [
    "1:ans:-\n",
    "\n",
    "def keyword is used to create a function\n",
    "\n",
    "def odd(n):\n",
    "    odd_no=[]\n",
    "    \n",
    "    for i in n :\n",
    "        if i%2!=0:\n",
    "            odd_no.append(i)\n",
    "        return (odd_no)\n",
    "    \n",
    "a=list(range(1,16))\n",
    "odd(a)"
   ]
  },
  {
   "cell_type": "code",
   "execution_count": null,
   "id": "4b448e2f-692c-4acb-8b23-e885089d8085",
   "metadata": {},
   "outputs": [],
   "source": [
    "2:ans:-\n",
    "\n",
    "Because we are unsure about the total no of arguements to pass in function . Hence , we use *args\n",
    "to pass multiple arguement in function and **kwargs to pass multiple key-value pair i.e. dictionary .\n",
    "\n",
    "# using *args\n",
    "def sqr(*args):\n",
    "    \n",
    "    result=[]\n",
    "    for i in args:\n",
    "        if type(i)==list:\n",
    "            for j in i:\n",
    "                result.append(j**2)\n",
    "            else:\n",
    "                result.append(i**2)\n",
    "            return(result)\n",
    "        \n",
    "# using **kwargs\n",
    "\n",
    "def sqr_kv(**kwargs):\n",
    "    return (kwargs)\n",
    "\n",
    "sqr_kv(number=list(range(1,11)),square=sqar(list(range(1,11))))"
   ]
  },
  {
   "cell_type": "code",
   "execution_count": null,
   "id": "1e5b1580-61ad-4b74-a89c-56a5336d10ac",
   "metadata": {},
   "outputs": [],
   "source": [
    "3:ans:-\n",
    "\n",
    "An iterator in python is an object that contains a countable number of elements that can be iterated upon . \n",
    "In an easy words , we can say that Iterators are objects that allow us to transversethrough all the elements\n",
    "of a collection and return one element at a time .\n",
    "\n",
    "The method iter() is used to intialise the iterator object and the method next() is used for iteration.\n",
    "\n",
    "#print first five elements\n",
    "\n",
    "l=[2,4,6,8,10,12,14,16,18,20]\n",
    "l1=iter(l)\n",
    "i=1\n",
    "while i<=5:\n",
    "    print(next(l1))\n",
    "    i=i+1\n",
    "    "
   ]
  },
  {
   "cell_type": "code",
   "execution_count": null,
   "id": "9839cede-c458-4d64-971b-ddf686b5d9b4",
   "metadata": {},
   "outputs": [],
   "source": [
    "4:ans:-\n",
    "\n",
    "A generator function in python is a special function which does not returna single value, instead, it returns\n",
    "an iterator object with a sequence of values . It allows us to create own iterator function . \n",
    "\n",
    "Yeild keyword in python that is used to return from the function without destroying the state of a local variable .\n",
    "\n",
    "# example\n",
    "\n",
    "def genfunct(n):\n",
    "    i=1\n",
    "    while i<=10:\n",
    "        yeild n*i\n",
    "        i=i+1\n",
    "        \n",
    "a=genfunct(int(input(\"enter your number :-\")))\n",
    "for j in a:\n",
    "    print(j)\n",
    "    "
   ]
  },
  {
   "cell_type": "code",
   "execution_count": null,
   "id": "e0aa2edf-f66e-4bf3-9fd5-75dce9d4c099",
   "metadata": {},
   "outputs": [],
   "source": [
    "5:ans:-\n",
    "\n",
    "def prime_gen():\n",
    "    \n",
    "    for j in range(1,1000):\n",
    "        count=0\n",
    "        \n",
    "        for i in range(1,j+1):\n",
    "            \n",
    "            if j%i==0:\n",
    "                \n",
    "                count=count+1\n",
    "                \n",
    "            if count==2:\n",
    "                \n",
    "                yield j\n",
    "                \n",
    "                \n",
    "a1=prime_gen()\n",
    "\n",
    "i=1\n",
    "while i<=20:\n",
    "    print(next(a1))\n",
    "    i=i+1\n",
    "                "
   ]
  },
  {
   "cell_type": "code",
   "execution_count": null,
   "id": "c059b742-04d7-4806-8624-9cb8e3dc02ce",
   "metadata": {},
   "outputs": [],
   "source": [
    "6:ans:-\n",
    "\n",
    "i=1\n",
    "a=0\n",
    "b=1\n",
    "\n",
    "while i<=10:\n",
    "    print(a)\n",
    "    c=a+b\n",
    "    a=b\n",
    "    b=c\n",
    "    \n",
    "    i=i+1"
   ]
  },
  {
   "cell_type": "code",
   "execution_count": null,
   "id": "6931ca15-1ffd-4098-99dc-882af3752cf3",
   "metadata": {},
   "outputs": [],
   "source": [
    "7:ans:-\n",
    "\n",
    "string=\"pwskills\"\n",
    "\n",
    "[i for i in string]\n"
   ]
  },
  {
   "cell_type": "code",
   "execution_count": null,
   "id": "cee96a1e-9ddc-41a3-862b-8e56d50825e8",
   "metadata": {},
   "outputs": [],
   "source": [
    "8:ans:-\n",
    "\n",
    "num=int(input(\"enter your number :-\"))\n",
    "rem=0\n",
    "result=0\n",
    "n=num\n",
    "while n>0:\n",
    "    rem=n%10\n",
    "    n=n/10\n",
    "    result=result*10+rem\n",
    "    \n",
    "if num == result:\n",
    "    \n",
    "    print(num,\"is a palindrome\")\n",
    "    \n",
    "else:\n",
    "    print(num,\"is not a palindrome\")\n",
    "    "
   ]
  },
  {
   "cell_type": "code",
   "execution_count": null,
   "id": "c68bcf7d-db0a-471f-857c-5ae5a5733389",
   "metadata": {},
   "outputs": [],
   "source": [
    "9:ans:-\n",
    "\n",
    "[i for i in range(1,101) if i%2!=0]"
   ]
  }
 ],
 "metadata": {
  "kernelspec": {
   "display_name": "Python 3 (ipykernel)",
   "language": "python",
   "name": "python3"
  },
  "language_info": {
   "codemirror_mode": {
    "name": "ipython",
    "version": 3
   },
   "file_extension": ".py",
   "mimetype": "text/x-python",
   "name": "python",
   "nbconvert_exporter": "python",
   "pygments_lexer": "ipython3",
   "version": "3.10.8"
  }
 },
 "nbformat": 4,
 "nbformat_minor": 5
}
